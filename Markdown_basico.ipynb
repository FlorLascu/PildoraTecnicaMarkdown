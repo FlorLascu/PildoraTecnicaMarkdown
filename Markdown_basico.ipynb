{
 "cells": [
  {
   "cell_type": "markdown",
   "metadata": {},
   "source": [
    "# Tutorial básico de Markdown"
   ]
  },
  {
   "cell_type": "markdown",
   "metadata": {},
   "source": [
    "En este cuaderno, se introduce a Markdown pensado para la elaboración de documentos que permitan explicar las teas realizadas por un Data Science.\n",
    "\n",
    "> Según wikipedia, Markdown es un **lenguaje de marcado ligero** creado por John Gruber que trata de conseguir la *máxima legibilidad y facilidad de publicación* tanto en su forma de entrada como de salida, inspirándose en muchas convenciones existentes para marcar mensajes de correo electrónico usando texto plano. Se distribuye bajo licencia BSD y se distribuye como un componente (o al menos está disponible) en diferentes sistemas de gestión de contenidos (CMS). Markdown convierte el texto marcado en documentos XHTML utilizando html2text creado por Aaron Swartz. Markdown fue implementado originariamente en Perl por Gruber, pero desde entonces se ha traducido a multitud de lenguajes de programación, incluyendo PHP, Python, Ruby, Java y Common Lisp."
   ]
  },
  {
   "cell_type": "markdown",
   "metadata": {},
   "source": [
    "Se puede utilizar tanto en una Jupyter Notebook abriendo una celda *\"Markdown\"* como en un archivo *\".md\"* como es el `README` de un repositorio."
   ]
  },
  {
   "cell_type": "markdown",
   "metadata": {},
   "source": [
    "## Sintaxis de Markdown"
   ]
  },
  {
   "cell_type": "markdown",
   "metadata": {},
   "source": [
    "Toda la sintaxis se puende encontrar [aqui](https://daringfireball.net/projects/markdown/syntax). A continuación, sólo muestro algunos ejemplos básicos como para poder empezar a escribir un documento."
   ]
  },
  {
   "cell_type": "markdown",
   "metadata": {},
   "source": [
    "## Títulos"
   ]
  },
  {
   "cell_type": "markdown",
   "metadata": {},
   "source": [
    "\n",
    "Se usa de uno a 6 # adelante del título. Se aconseja dejarlo solo en la celda, para hacer uso de la contracción por niveles.\n",
    "\n",
    "        # Titulo 1\n",
    "        ## Título 2\n",
    "        ### Título 3\n",
    "        #### Título 4\n",
    "        ##### Título 5\n",
    "        ###### Título 6\n"
   ]
  },
  {
   "cell_type": "markdown",
   "metadata": {},
   "source": [
    "## Formato de letra"
   ]
  },
  {
   "cell_type": "markdown",
   "metadata": {},
   "source": [
    "Se puede hacer **negrita colocando dos * antes y despues de la pablabra** y *cursiva con un * entre las palabras*.\n",
    "\n",
    "    **negrita colocando dos * antes y despues de la pablabra**\n",
    "    *cursiva con un * entre las palabras*"
   ]
  },
  {
   "cell_type": "markdown",
   "metadata": {},
   "source": [
    "## Imágenes"
   ]
  },
  {
   "cell_type": "markdown",
   "metadata": {},
   "source": [
    "La forma mas común es poniendo ![Descripción](url a la imagen), donde `Descripción` es cualquier descripción que uno indique en relación a la imágen y `url a la imagen` es la ruta RELATIVA donde esta la imagen o url en internet. Por ejemplo:\n",
    "\n",
    "    ![Imagen de un emoticon nerd](Ejemplos/imagen.jpg)\n",
    "\n",
    "Esto se ve así:"
   ]
  },
  {
   "cell_type": "markdown",
   "metadata": {},
   "source": [
    "![Imagen de un emoticon nerd](Ejemplos/imagen.jpg)"
   ]
  },
  {
   "cell_type": "markdown",
   "metadata": {},
   "source": [
    "Si eso no funciona.. cosa que puede pasar.. se puede usar HTML para ver la imágen de esta manera: \n",
    "\n",
    "    <img src=\"Ejemplos/imagen.jpg\">"
   ]
  },
  {
   "cell_type": "markdown",
   "metadata": {},
   "source": [
    "<img src=\"Ejemplos/imagen.jpg\">"
   ]
  },
  {
   "cell_type": "markdown",
   "metadata": {},
   "source": [
    "## Links"
   ]
  },
  {
   "cell_type": "markdown",
   "metadata": {},
   "source": [
    "Se puede agrear un link a una palabra en el párrafo, como cuando decimos \"(...) la descripción detallada del EDA se puede encontar [aquí](Ejemplos/EjemploEDA.ipynb).\" La referencia puede ser a una ubicación en la estructura de archivos del repositorio o a una url en internet.\n",
    "\n",
    "    Eso se escribe así: \"(...) la descripción detallada del EDA se puede encontar [aquí](Ejemplos/EjemploEDA.ipynb).\"\n"
   ]
  },
  {
   "cell_type": "markdown",
   "metadata": {},
   "source": [
    "También se puede usar imágenes para hacer click a un enlace, por ejemplo \"Puedes ver mi perfil en \n",
    "[![LinkedIn](https://img.shields.io/badge/LinkedIn-blue?style=flat-square&logo=linkedin)](https://www.linkedin.com/in/ingambcarlapezzone/)\"\n",
    "\n",
    "    Esto se hace así: \"Puedes ver mi perfil en \n",
    "    [![LinkedIn](https://img.shields.io/badge/LinkedIn-blue?style=flat-square&logo=linkedin)](https://www.linkedin.com/in/ingambcarlapezzone/)\""
   ]
  },
  {
   "cell_type": "markdown",
   "metadata": {},
   "source": [
    "## Items"
   ]
  },
  {
   "cell_type": "markdown",
   "metadata": {},
   "source": [
    "Se pueden hacer listas:\n",
    "\n",
    "    * Item 1 \n",
    "        * Subitem del 1\n",
    "            * Subitem del subitem\n",
    "    * Item 2\n",
    "    * Item 3 \n",
    "    * Item 4\n",
    "\n",
    "Se ve así:\n",
    "\n",
    "* Item 1\n",
    "    * Subitem del 1\n",
    "        * Subitem del subitem\n",
    "* Item 2\n",
    "* Item 3 \n",
    "* Item 4"
   ]
  },
  {
   "cell_type": "markdown",
   "metadata": {},
   "source": [
    "## Citas\n",
    "\n",
    "Se puede hacer una cita de un texto de esta forma:\n",
    "\n",
    "    > Python es el mejor lenguaje de programación (dos espacios para enter)\n",
    "    Porque es fácil de entender\n",
    "\n",
    "Se ve así:\n",
    "\n",
    "> Python es el mejor lenguaje de programación  \n",
    "> Porque es fácil de entender"
   ]
  },
  {
   "cell_type": "markdown",
   "metadata": {},
   "source": [
    "## Código"
   ]
  },
  {
   "cell_type": "markdown",
   "metadata": {},
   "source": [
    "Se puede mostrar código dentro de Markdown utilizando el tilde invertido ` e indicando el lenguaje para que le de el formato:\n",
    "\n",
    "    ``` python\n",
    "    print('Hola Mundo)\n",
    "    ```\n",
    "\n",
    "Esto se ve así:\n",
    "\n",
    "``` python\n",
    "print('Hola Mundo)\n",
    "```"
   ]
  },
  {
   "cell_type": "markdown",
   "metadata": {},
   "source": [
    "## Tablas"
   ]
  },
  {
   "cell_type": "markdown",
   "metadata": {},
   "source": [
    "Para armar tablas es necesario usar pipe (|) y guiones (-). Las columnas se delimitan por los pipe y los guiones indican el encabezado, de esta forma:\n",
    "\n",
    "    | Columna 1 | Columna 2 | Columna 3 |\n",
    "    | --- | --- | --- |\n",
    "    | Dato 1 | Dato 2 | Dato 3 |\n",
    "    | Dato 4 | Dato 5 | Dato 6 |\n",
    "    | Dato 7 | Dato 8 | Dato 9 |\n",
    "\n",
    "Esto se ve así:\n",
    "\n",
    "| Columna 1 | Columna 2 | Columna 3 |\n",
    "| --- | --- | --- |\n",
    "| Dato 1 | Dato 2 | Dato 3 |\n",
    "| Dato 4 | Dato 5 | Dato 6 |\n",
    "| Dato 7 | Dato 8 | Dato 9 |"
   ]
  },
  {
   "cell_type": "markdown",
   "metadata": {},
   "source": [
    "## Texo centrado"
   ]
  },
  {
   "cell_type": "markdown",
   "metadata": {},
   "source": [
    "Para centrar texto se usa HTML, por ejemplo así:\n",
    "\n",
    "    <h2 align=center> Texto centrado </h2>\n",
    "\n",
    "Esto se ve así:\n",
    "\n",
    "<h2 align=center> Texto centrado </h2>\n"
   ]
  },
  {
   "cell_type": "markdown",
   "metadata": {},
   "source": [
    "## Color en el texto"
   ]
  },
  {
   "cell_type": "markdown",
   "metadata": {},
   "source": [
    "También podemos usar HTML para poner color a un texto. Por ejemplo:\n",
    "\n",
    "    <font color='azul'>\n",
    "    <b>Lo que debes recordar</b>:\n",
    "\n",
    "    - hola\n",
    "    - otro hola\n",
    "\n",
    "Esto se ve así:\n",
    "\n",
    "<font color='azul'>\n",
    "    <b>Lo que debes recordar</b>:\n",
    "\n",
    "- hola\n",
    "- otro hola"
   ]
  },
  {
   "cell_type": "markdown",
   "metadata": {},
   "source": [
    "## Texto oculto para mas información"
   ]
  },
  {
   "cell_type": "markdown",
   "metadata": {},
   "source": [
    "Por ejemplo, si se quiere ocultar información para que el usuario abra ese apartado solo en caso de requerirlo, se puede hacer con HTML de esta forma:\n",
    "\n",
    "    <details>\n",
    "        <summary><font size=\"2\" color=\"darkblue\"><b> Click para la respuesta al checkpoint</b></font></summary>\n",
    "\n",
    "    No se hace trampa en el checkpoint!!\n",
    "\n",
    "Eso se ve así:\n",
    "\n",
    "<details>\n",
    "    <summary><font size=\"2\" color=\"darkblue\"><b> Click para la respuesta al checkpoint</b></font></summary>\n",
    "\n",
    "No se hace trampa en el checkpoint!!"
   ]
  },
  {
   "cell_type": "markdown",
   "metadata": {},
   "source": [
    "## Ecuaciones"
   ]
  },
  {
   "cell_type": "markdown",
   "metadata": {},
   "source": [
    "Hay mucho para aprender de ecuaciones. Algunas cosas básicas a saber es que se escriben entre $. Por ejemplo \\$x\\$, muestra la x en formato de ecuación: $x$\n",
    "\n",
    "Se pueden usar letras griegas como $\\alpha$. Para eso tenemos que escribir el nombre de la letra: \\$\\alpha\\$.\n",
    "\n",
    "Se pueden hacer fracciones: $\\frac{1}{2m}$. Para eso, se escribe la palabra `frac` y entre llaves se usa el numerador y el denominados: \\$\\frac{1}{2m}\\$\n",
    "\n",
    "Para hacer $\\hat{y}$, se utiliza la palabra `hat`: \\$\\hat{y}\\$\n",
    "\n",
    "Para elevar a un exponente como por ejemplo: $x^{2}$, se usa ^ y entre llaves el exponete \\$x^{2}\\$\n",
    "\n",
    "Para un subíndice se usa _ , por ejemplo: $x_0$, esto es \\$x_0\\$.\n",
    "\n",
    "Si se quiere un subindice y superíndice al mismo tiempo: $x_j^{(i)}$ se hace así: \\$x_j^{(i)}\\$\n",
    "\n",
    "Para ver el código de las ecuaciones sin que \"se activen\" como \\$x_j^{(i)}\\$, se utiliza un \"escape\" usando la barra invertida \\\\.\n",
    "\n",
    "En este [link](https://editor.codecogs.com/) se puede crear la ecuación, copiar el código y luego pegarlo entre \"$\"."
   ]
  },
  {
   "cell_type": "markdown",
   "metadata": {},
   "source": [
    "## Emojis"
   ]
  },
  {
   "cell_type": "markdown",
   "metadata": {},
   "source": [
    "Se pueden agregar emojis al texto 🤯. Para ello, se puede visitar este [link](https://www.webfx.com/tools/emoji-cheat-sheet/), buscar el emoji de interés, copiar el código y pegar aca: 😍"
   ]
  },
  {
   "cell_type": "markdown",
   "metadata": {},
   "source": [
    "## Práctica"
   ]
  },
  {
   "cell_type": "markdown",
   "metadata": {},
   "source": [
    "Como todo en programación, todo es práctica, práctica y mas práctica. En este [link](https://www.markdowntutorial.com/es/) se puede practicar. Pero siempre más se aprende cuando nos encontramos frente al desafío de escribir un README. Así que la sugerencia es **hacer un proyecto que te desafíe a usar Markdown**."
   ]
  }
 ],
 "metadata": {
  "language_info": {
   "name": "python"
  },
  "orig_nbformat": 4
 },
 "nbformat": 4,
 "nbformat_minor": 2
}
